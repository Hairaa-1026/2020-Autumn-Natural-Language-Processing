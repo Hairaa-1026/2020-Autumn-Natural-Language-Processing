{
 "cells": [
  {
   "cell_type": "markdown",
   "metadata": {},
   "source": [
    "1.任务描述：合法的IPv4地址由4组数字组成，每组数字之间以.分隔，且取值范围是0-255。请在下列数字中判断出合法的地址。  \n",
    "输入：66666666666  \n",
    "23333333  \n",
    "500.1.2.5  \n",
    "0.0.0.0  \n",
    "192.0.0.1  \n",
    "233.233.233.233  \n",
    "102.52.96.3  "
   ]
  },
  {
   "cell_type": "code",
   "execution_count": 1,
   "metadata": {},
   "outputs": [
    {
     "name": "stdout",
     "output_type": "stream",
     "text": [
      "请输入一个ip地址：500.1.2.5\n",
      "Invalid IP Address\n"
     ]
    }
   ],
   "source": [
    "'''\n",
    "首先分析一下ip地址的组成：\n",
    "    前三个单元由1~255的数字+'.'构成，最后一个单元由1~255数字构成。\n",
    "    1~255的数字的特点：\n",
    "        两位以下：[1-9]?\\d\n",
    "        三位：\n",
    "            100-199：1\\d{2}\n",
    "            200-249：2[0-4]\\d\n",
    "            250-255：25[0-5]\n",
    "'''\n",
    "import re\n",
    "\n",
    "pattern = r'(((25[0-5]|2[0-4]\\d|1\\d{2})|([1-9]?\\d))\\.){3}((25[0-5]|2[0-4]\\d|1\\d{2})|([1-9]?\\d))$'\n",
    "ip = input(\"请输入一个ip地址：\")\n",
    "result = re.match(pattern, ip)\n",
    "if result:\n",
    "    print(\"Valid IP Address\")\n",
    "else:\n",
    "    print(\"Invalid IP Address\")"
   ]
  },
  {
   "cell_type": "markdown",
   "metadata": {},
   "source": [
    "2.任务描述：将句子中的中文日期替换为阿拉伯数字，并改为YYYY-MM-DD格式输出。  \n",
    "输入：新中国于一九四九年十月一日成立。  \n",
    "我的出生日期是二零零零年九月二十三日。  "
   ]
  },
  {
   "cell_type": "code",
   "execution_count": 2,
   "metadata": {},
   "outputs": [
    {
     "name": "stdout",
     "output_type": "stream",
     "text": [
      "请输入句子：我的出生日期是二零零零年九月二十三日。\n",
      "我的出生日期是2000-9-23。\n"
     ]
    }
   ],
   "source": [
    "'''\n",
    "首先分析一下日期的组成：\n",
    "    年：年字前的四位是对应的年数。直接按位解析为阿拉伯数字即可。\n",
    "    月：年字和月字中间的一到二位是对应的月数。\n",
    "        一位：一到十月，直接按位解析为阿拉伯数字。\n",
    "        两位：十一到十二月，读取末位并加前缀'1'即可。\n",
    "    日：月字和日字中间的一到三位是对应的日数。\n",
    "        一位：一到十日，直接读取。\n",
    "        两位：十一到十九日、二十日、三十日，读首位，如为十则读末位加前缀'1'，如非十则首位加后缀'0'。\n",
    "        三位：二十一到二十九、三十一，首位加末位。\n",
    "'''\n",
    "\n",
    "import re\n",
    "\n",
    "#用字典记录汉字-阿拉伯数字的映射关系\n",
    "nums = {'零':'0','一': '1','二': '2','三': '3','四': '4','五': '5','六': '6','七': '7','八': '8','九': '9','十': '10'}\n",
    "\n",
    "#记录年、月、日的匹配规则\n",
    "pattern_year = '.{4}(?=年)'\n",
    "pattern_month = '(?<=年).*(?=月)'\n",
    "pattern_day = '(?<=月).*(?=日)'\n",
    "\n",
    "sentence = input(\"请输入句子：\")\n",
    "\n",
    "res_year = re.search(pattern_year, sentence)\n",
    "res_month = re.search(pattern_month,sentence)\n",
    "res_day = re.search(pattern_day,sentence)\n",
    "\n",
    "str_year=\"\";str_month=\"\";str_day=\"\"\n",
    "\n",
    "if res_year and res_month and res_day:\n",
    "    #将年份处理为阿拉伯数字\n",
    "    for i in range(4):\n",
    "        str_year+=nums[(res_year.group())[i]]\n",
    "    #将月份处理为阿拉伯数字\n",
    "    if len(res_month.group()) == 1:\n",
    "        str_month = nums[(res_month.group())[0]]\n",
    "    elif len(res_month.group()) == 2:\n",
    "        str_month = '1'+nums[(res_month.group())[1]]\n",
    "    #将日期处理为阿拉伯数字\n",
    "    if len(res_day.group()) == 1:\n",
    "        str_day = nums[(res_day.group())[0]]\n",
    "    elif len(res_day.group()) == 2:\n",
    "        if res_day.group()[0] == '十':\n",
    "            str_day = '1'+nums[(res_day.group())[1]]\n",
    "        else:\n",
    "            str_day = nums[(res_day.group())[0]]+'0'\n",
    "    elif len(res_day.group()) == 3:\n",
    "        str_day = nums[(res_day.group())[0]]+nums[(res_day.group())[2]]\n",
    "    #将原句中的日期替换并格式化\n",
    "    sentence = sentence.replace(res_year.group()+'年',str_year+'-')\n",
    "    sentence = sentence.replace(res_month.group()+'月',str_month+'-')\n",
    "    sentence = sentence.replace(res_day.group()+'日',str_day)\n",
    "    print(sentence)"
   ]
  },
  {
   "cell_type": "markdown",
   "metadata": {},
   "source": [
    "3.任务描述：将句子中的电话号码提取出来，电话号码格式为区号（可选）后接“-”或空格，再加十位数字。  \n",
    "输入：我的电话号码是1234567890，另一个电话号码是+86-4321567890。如果以上都不可用，您可以在16点前致电+91 5645456545与我联系。"
   ]
  },
  {
   "cell_type": "code",
   "execution_count": 8,
   "metadata": {
    "scrolled": true
   },
   "outputs": [
    {
     "name": "stdout",
     "output_type": "stream",
     "text": [
      "请输入句子：我的电话号码是1234567890，另一个电话号码是+86-4321567890。如果以上都不可用，您可以在16点前致电+91 5645456545与我联系。\n",
      "1234567890\n",
      "+86-4321567890\n",
      "+91 5645456545\n"
     ]
    }
   ],
   "source": [
    "'''\n",
    "电话号码组成：\n",
    "    有区号：'+'加n位数字加' '或者'-'加10位数字\n",
    "    无区号：10位数字\n",
    "'''\n",
    "\n",
    "import re\n",
    "\n",
    "pattern = '((\\+\\d*[ -])?\\d{10})'\n",
    "\n",
    "sentence = input(\"请输入句子：\")\n",
    "\n",
    "res = re.findall(pattern, sentence)\n",
    "\n",
    "for i in range(len(res)):\n",
    "    print(res[i][0])"
   ]
  },
  {
   "cell_type": "code",
   "execution_count": null,
   "metadata": {},
   "outputs": [],
   "source": []
  }
 ],
 "metadata": {
  "kernelspec": {
   "display_name": "Python 3",
   "language": "python",
   "name": "python3"
  },
  "language_info": {
   "codemirror_mode": {
    "name": "ipython",
    "version": 3
   },
   "file_extension": ".py",
   "mimetype": "text/x-python",
   "name": "python",
   "nbconvert_exporter": "python",
   "pygments_lexer": "ipython3",
   "version": "3.7.6"
  }
 },
 "nbformat": 4,
 "nbformat_minor": 4
}
