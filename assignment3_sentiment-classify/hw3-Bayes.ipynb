{
 "cells": [
  {
   "cell_type": "markdown",
   "metadata": {},
   "source": [
    "作业三 朴素贝叶斯情感分类  \n",
    "任务描述：利用nltk语料库中的影评来进行朴素贝叶斯情感分类训练。  \n",
    "影评导入：from nltk.corpus import movie_reviews  \n",
    "文件具体目录在…\\nltk_data\\corpora\\movie_reviews，已做好分类标注，消极与积极影评各1000条。  \n",
    "步骤：经过文本预处理（去噪、分句、分词、去停词、取词干、修剪）和特征选择，生成特征词表，之后利用朴素贝叶斯模型进行训练。（每个步骤最好注释一下）  \n",
    "选择前80%（即前800条消极影评与前800条积极影评）作为训练集，后20%作为测试集。  \n",
    "输出：准确率Accuracy，精确率Precision，召回率Recall和F1值，精确到小数点后两位。其中，F1 = ( 2 * Precision * Recall ) / ( Precision + Recall)。  \n",
    "例如：  \n",
    "Accuracy = 0.98  \n",
    "Precision = 0.67  \n",
    "Recall = 0.32  \n",
    "F1 = 0.43  \n"
   ]
  },
  {
   "cell_type": "code",
   "execution_count": 1,
   "metadata": {},
   "outputs": [
    {
     "name": "stdout",
     "output_type": "stream",
     "text": [
      "158 42 174 26\n",
      "Accuracy =  0.83\n",
      "Precision =  0.79\n",
      "Recall =  0.86\n",
      "F1 =  0.82\n"
     ]
    }
   ],
   "source": [
    "import random\n",
    "from nltk.corpus import movie_reviews  # 影评语料库\n",
    "from nltk.corpus import stopwords\n",
    "from nltk import FreqDist\n",
    "from nltk import NaiveBayesClassifier\n",
    "from nltk.classify import accuracy\n",
    "import string\n",
    "\n",
    "\n",
    "def is_invalid(word):    # 预先定义好去停词、标点函数\n",
    "    return word in sw or word in punctuation\n",
    "\n",
    "\n",
    "def doc_features(doc):  # 预先定义提取单词在过滤文档中的频率作为特征\n",
    "    doc_words = FreqDist(w for w in doc if not is_invalid(w))\n",
    "    features = {}   # 字典\n",
    "    for word in word_features:\n",
    "        features['count(%s)' % word] = (doc_words.get(word, 0))\n",
    "    return features\n",
    "\n",
    "\n",
    "#   生成标注好的句子、标签列表\n",
    "#   已经提供了分词后的句子，因此不需要手动分句、分词\n",
    "labeled_docs = [(list(movie_reviews.words(fid)), cat) for cat in movie_reviews.categories() for fid in\n",
    "                movie_reviews.fileids(cat)]\n",
    "\n",
    "#   选取特征词\n",
    "review_words = movie_reviews.words()\n",
    "\n",
    "sw = set(stopwords.words('english'))  # 标记停用词\n",
    "punctuation = set(string.punctuation)  # 标记标点\n",
    "\n",
    "#   通过函数去停词和标点\n",
    "filtered = [w.lower() for w in review_words if not is_invalid(w.lower())]\n",
    "\n",
    "#   单词按频率排序，词频最高的5%的单词作为特征\n",
    "words = FreqDist(filtered)\n",
    "N = int(0.05 * len(words.keys()))\n",
    "word_features = list(words.keys())[:N]\n",
    "\n",
    "# 从原始数据中提取特征\n",
    "feature_sets = [(doc_features(d), c) for (d, c) in labeled_docs]\n",
    "# 训练集，测试集（选取正负样本的各前800个作为训练集，各后200个作为测试集）\n",
    "train_set, test_set = feature_sets[0:800]+feature_sets[1000:1800], feature_sets[800:1000]+feature_sets[1800:2000]\n",
    "# 利用训练集训练模型\n",
    "classifier = NaiveBayesClassifier.train(train_set)\n",
    "\n",
    "# 定义TP、FP、TN、FN\n",
    "True_Positive = 0\n",
    "False_Positive = 0\n",
    "True_Negative = 0\n",
    "False_Negative = 0\n",
    "\n",
    "results = classifier.classify_many([fs for (fs, l) in test_set])\n",
    "for ((fs, l), r) in zip(test_set, results):\n",
    "    if(l == 'pos') and (l == r):\n",
    "        True_Positive += 1\n",
    "    elif (l == 'pos') and (l != r):\n",
    "        False_Positive += 1\n",
    "    elif (l == 'neg') and (l == r):\n",
    "        True_Negative += 1\n",
    "    elif (l == 'neg') and (l != r):\n",
    "        False_Negative += 1\n",
    "\n",
    "print(True_Positive, False_Positive, True_Negative, False_Negative)\n",
    "# 利用训练集训练的模型，用测试集计算Accuracy、Precision、Recall、F1\n",
    "# Accuracy = (TP+TN)/sum\n",
    "Accuracy = (True_Positive+True_Negative)/400\n",
    "# Precision = TP/(TP+FP)\n",
    "Precision = True_Positive/(True_Positive+False_Positive)\n",
    "# Recall = TP/(TP+FN)\n",
    "Recall = True_Positive/(True_Positive+False_Negative)\n",
    "# F1 = ( 2 * Precision * Recall ) / ( Precision + Recall)\n",
    "F1 = (2 * Precision * Recall) / (Precision + Recall)\n",
    "print(\"Accuracy = \", Accuracy)\n",
    "print(\"Precision = \", Precision)\n",
    "print(\"Recall = \", \"%.2f\" % Recall)\n",
    "print(\"F1 = \", \"%.2f\" % F1)"
   ]
  },
  {
   "cell_type": "code",
   "execution_count": null,
   "metadata": {},
   "outputs": [],
   "source": []
  }
 ],
 "metadata": {
  "kernelspec": {
   "display_name": "Python 3",
   "language": "python",
   "name": "python3"
  },
  "language_info": {
   "codemirror_mode": {
    "name": "ipython",
    "version": 3
   },
   "file_extension": ".py",
   "mimetype": "text/x-python",
   "name": "python",
   "nbconvert_exporter": "python",
   "pygments_lexer": "ipython3",
   "version": "3.7.6"
  }
 },
 "nbformat": 4,
 "nbformat_minor": 4
}
