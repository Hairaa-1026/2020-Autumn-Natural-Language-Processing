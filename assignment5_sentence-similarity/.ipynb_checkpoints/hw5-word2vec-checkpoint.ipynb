{
 "cells": [
  {
   "cell_type": "markdown",
   "metadata": {},
   "source": [
    "作业五 相似度计算  \n",
    "任务描述：采用word2vec方法，进行句子相似度计算训练。  \n",
    "  \n",
    "给出一个有关句子相似度的二分类数据集msr_paraphrase（包含train、test、README三个文件），其中第一列数字1代表相似，0代表不相似。  \n",
    "选择文件train中的string1&2部分作为训练语料，选择文件test计算句子相似度，然后与标注结果比较，输出你认为合适的分类阈值，以及该阈值下的准确率Accuracy，精确率Precision，召回率Recall和F1值（精确到小数点后两位）。  \n",
    "  \n",
    "句向量相似度计算方式：  \n",
    "首先对句子分词，获取每个词的词向量，然后将所有的词向量相加求平均，得到句子向量，最后计算两个句子向量的余弦值(余弦相似度)。  \n",
    "\n",
    "Word2vec部分，使用Gensim的Word2Vec训练模型，自行调整合适的参数。  \n",
    "注意可能会出现word xx not in vocabulary的情况，这是由于训练时默认参数min_count=5，会过滤掉低频词。可以手动设定min_count=1，或者在计算句向量时，遇到低频词则忽略。自行选择其一，并注释。  \n",
    "gensim镜像安装方式  \n",
    "pip install -i https://pypi.tuna.tsinghua.edu.cn/simple gensim  \n",
    "导入方式from gensim.models import word2vec  \n"
   ]
  },
  {
   "cell_type": "markdown",
   "metadata": {},
   "source": [
    "**1.读取文本并对句子分词**"
   ]
  },
  {
   "cell_type": "code",
   "execution_count": 1,
   "metadata": {},
   "outputs": [
    {
     "name": "stdout",
     "output_type": "stream",
     "text": [
      "[['amrozi', 'accused', 'his', 'brother', 'whom', 'he', 'called', 'the', 'witness', 'of', 'deliberately', 'distorting', 'his', 'evidence'], ['referring', 'to', 'him', 'as', 'only', 'the', 'witness', 'amrozi', 'accused', 'his', 'brother', 'of', 'deliberately', 'distorting', 'his', 'evidence'], ['yucaipa', 'owned', 'dominick', 's', 'before', 'selling', 'the', 'chain', 'to', 'safeway', 'in', 'for', 'billion'], ['yucaipa', 'bought', 'dominick', 's', 'in', 'for', 'million', 'and', 'sold', 'it', 'to', 'safeway', 'for', 'billion', 'in'], ['they', 'had', 'published', 'an', 'advertisement', 'on', 'the', 'internet', 'on', 'june', 'offering', 'the', 'cargo', 'for', 'sale', 'he', 'added']]\n"
     ]
    }
   ],
   "source": [
    "import pandas as pd\n",
    "import nltk.tokenize as tk\n",
    "import re\n",
    "\n",
    "data = pd.read_csv('msr_train.csv',keep_default_na=False)    # 读取train文件，设置忽略NAN，否则后期会出问题\n",
    "\n",
    "num_row, num_col = (data.shape)        # 记录train中的行列值 \n",
    "\n",
    "sentences= []                          # 记录train中读到的句子\n",
    "\n",
    "pattern = re.compile(\"[^a-zA-Z0-9\\n ]\")# 定义去标点用的模式\n",
    "\n",
    "def formating(words):                  # 定义一个格式化函数（对传入列表匹配英文单词并全部转小写）\n",
    "    new_words = []\n",
    "    for i in words:\n",
    "        pattern = re.compile(\"[^a-zA-Z\\n ]\")\n",
    "        word = re.sub(pattern, \"\", i).lower()\n",
    "        if(word!=''):                  \n",
    "            new_words.append(re.sub(pattern, \"\", i).lower())\n",
    "    return new_words\n",
    "\n",
    "for i in range(num_row):               # 分词\n",
    "    words_1 = tk.word_tokenize(data['#1 String'].loc[i])\n",
    "    words_2 = tk.word_tokenize(data['#2 String'].loc[i])\n",
    "    sentences.append(formating(words_1))\n",
    "    sentences.append(formating(words_2))\n",
    "print(sentences[:5])                   # 随便输出几个"
   ]
  },
  {
   "cell_type": "markdown",
   "metadata": {},
   "source": [
    "**2.用Word2vec训练出每个词的词向量**"
   ]
  },
  {
   "cell_type": "code",
   "execution_count": 2,
   "metadata": {},
   "outputs": [
    {
     "name": "stdout",
     "output_type": "stream",
     "text": [
      "[-0.1964961   0.26676697 -0.5817522   1.1675538   0.84326273]\n"
     ]
    },
    {
     "name": "stderr",
     "output_type": "stream",
     "text": [
      "C:\\Users\\Hairaa\\anaconda3\\lib\\site-packages\\ipykernel_launcher.py:5: DeprecationWarning: Call to deprecated `__getitem__` (Method will be removed in 4.0.0, use self.wv.__getitem__() instead).\n",
      "  \"\"\"\n"
     ]
    }
   ],
   "source": [
    "from gensim.models import word2vec\n",
    "\n",
    "model = word2vec.Word2Vec(sentences, size=200, min_count=1)  # 训练skip-gram模型; 默认window=5\n",
    "\n",
    "print(model['who'][:5])  # 输出某个词词向量的一部分，以确认模型生成好了. 由于方法快过时了，所以会有红色的警告"
   ]
  },
  {
   "cell_type": "markdown",
   "metadata": {},
   "source": [
    "**3.将所有的词向量相加求平均，得到句子向量，最后计算两个句子向量的余弦值(余弦相似度)。**"
   ]
  },
  {
   "cell_type": "code",
   "execution_count": 3,
   "metadata": {},
   "outputs": [
    {
     "name": "stdout",
     "output_type": "stream",
     "text": [
      "0.999403544268054\n",
      "0.9999049301603591\n",
      "0.9994079023348476\n"
     ]
    },
    {
     "name": "stderr",
     "output_type": "stream",
     "text": [
      "C:\\Users\\Hairaa\\anaconda3\\lib\\site-packages\\ipykernel_launcher.py:6: DeprecationWarning: Call to deprecated `__getitem__` (Method will be removed in 4.0.0, use self.wv.__getitem__() instead).\n",
      "  \n"
     ]
    }
   ],
   "source": [
    "import numpy as np\n",
    "\n",
    "def sentence_vector(s):      #计算句子向量\n",
    "    vec = np.zeros(200)\n",
    "    for word in s:\n",
    "        vec += model[word]\n",
    "    vec /= len(s)\n",
    "    return vec\n",
    "\n",
    "def sentence_similarity(s1, s2):    #计算两个句子向量的余弦值（用numpy可以写的很优雅）\n",
    "    v1, v2 = sentence_vector(s1), sentence_vector(s2)\n",
    "    return np.dot(v1, v2) / (np.linalg.norm(v1) * np.linalg.norm(v2))\n",
    "\n",
    "for i in range(0, 6, 2):           #测试几个句子的相似值\n",
    "    print(sentence_similarity(sentences[i],sentences[i + 1]))"
   ]
  },
  {
   "cell_type": "markdown",
   "metadata": {},
   "source": [
    "**4.输出你认为合适的分类阈值**"
   ]
  },
  {
   "cell_type": "code",
   "execution_count": 4,
   "metadata": {},
   "outputs": [
    {
     "name": "stderr",
     "output_type": "stream",
     "text": [
      "C:\\Users\\Hairaa\\anaconda3\\lib\\site-packages\\ipykernel_launcher.py:6: DeprecationWarning: Call to deprecated `__getitem__` (Method will be removed in 4.0.0, use self.wv.__getitem__() instead).\n",
      "  \n",
      "C:\\Users\\Hairaa\\anaconda3\\lib\\site-packages\\ipykernel_launcher.py:7: RuntimeWarning: invalid value encountered in true_divide\n",
      "  import sys\n"
     ]
    }
   ],
   "source": [
    "import csv\n",
    "\n",
    "#  寻找最好的分类阈值理论上可以用多种方法来做，比如决策树等人工智能方法\n",
    "\n",
    "#  由于时间有限我选择通过平均值选取\n",
    "\n",
    "#  把相似度和标签写入到csv里面\n",
    "csv_file = open(\"msr_classify.csv\",\"w\",newline = \"\")\n",
    "classify_data = csv.writer(csv_file)\n",
    "for i in range (num_row):\n",
    "    sentence_1 = formating(tk.word_tokenize(data['#1 String'].loc[i]))\n",
    "    sentence_2 = formating(tk.word_tokenize(data['#2 String'].loc[i]))\n",
    "    classify_data.writerow([data['Quality'].loc[i], sentence_similarity(sentence_1,sentence_2)])\n",
    "csv_file.close()"
   ]
  },
  {
   "attachments": {
    "image.png": {
     "image/png": "[encoded data removed]"
    }
   },
   "cell_type": "markdown",
   "metadata": {},
   "source": [
    "由msr_classify.csv得到：\n",
    "![image.png](attachment:image.png)\n",
    "**正数据的平均相似度**"
   ]
  },
  {
   "attachments": {
    "image.png": {
     "image/png": "[encoded data removed]"
    }
   },
   "cell_type": "markdown",
   "metadata": {},
   "source": [
    "![image.png](attachment:image.png)\n",
    "**负数据的平均相似度**\n",
    "\n",
    "**将阈值取值为：0.998663876**"
   ]
  },
  {
   "cell_type": "markdown",
   "metadata": {},
   "source": [
    "**5.该阈值下的准确率Accuracy，精确率Precision，召回率Recall和F1值（精确到小数点后两位）**"
   ]
  },
  {
   "cell_type": "markdown",
   "metadata": {},
   "source": [
    "$$Accuracy = \\frac{TP+TN}{TP+TN+FP+FN}$$\n",
    "\n",
    "\n",
    "$$Precision = \\frac{TP}{TP+FP}$$\n",
    "\n",
    "\n",
    "$$Recall = \\frac{TP}{TP+FN}$$\n",
    "\n",
    "\n",
    "$$F_1 = \\frac{2TP}{2TP+FP+FN}$$"
   ]
  },
  {
   "cell_type": "code",
   "execution_count": 5,
   "metadata": {},
   "outputs": [],
   "source": [
    "Accuracy_image = []\n",
    "#  定义TP、FP、TN、FN\n",
    "def find_num(number):\n",
    "    csv_file = csv.reader(open(\"msr_classify.csv\", 'r'))\n",
    "    true_pos, false_pos, true_neg, false_neg = 0, 0, 0, 0\n",
    "    for i in csv_file:\n",
    "        if float(i[1]) > number:\n",
    "            tag = '1'\n",
    "        else:\n",
    "            tag = '0'\n",
    "        if(tag == i[0]):     #  True类\n",
    "            if(i[0]=='0'):\n",
    "                true_neg+=1  #  TN\n",
    "            else:\n",
    "                true_pos+=1  #  TP\n",
    "        else:\n",
    "            if(i[0]=='0'):\n",
    "                false_pos+=1 #  FP\n",
    "            else:\n",
    "                false_neg+=1 #  FN\n",
    "\n",
    "    #print(true_pos, false_pos, true_neg, false_neg)\n",
    "\n",
    "    Accuracy = (true_pos + true_neg)/(true_pos + false_pos + true_neg + false_neg)\n",
    "    Precision = true_pos / (true_pos + false_pos)\n",
    "    Recall = true_pos / (true_pos + false_neg)\n",
    "    F1 = 2*true_pos / (2*true_pos + false_pos + false_neg)\n",
    "    \n",
    "    Accuracy_image.append(Accuracy)\n",
    "    #print(\"%.2f\"%Accuracy)\n",
    "    #print(\"%.2f\"%Precision)\n",
    "    #print(\"%.2f\"%Recall)\n",
    "    #print(\"%.2f\"%F1)\n",
    "\n",
    "#  阈值选的不太成功(lll￢ω￢)"
   ]
  },
  {
   "cell_type": "code",
   "execution_count": null,
   "metadata": {},
   "outputs": [],
   "source": [
    "import matplotlib.pyplot as plt\n",
    "\n",
    "indexs = []\n",
    "\n",
    "for i in range(100):\n",
    "    find_num(0.99+0.0001*i)\n",
    "    indexs.append(0.99+0.0001*i)\n",
    "\n",
    "plt.plot(indexs,Accuracy_image,color='red',linewidth=2.0,linestyle='--')\n",
    "plt.show()"
   ]
  },
  {
   "cell_type": "code",
   "execution_count": null,
   "metadata": {},
   "outputs": [],
   "source": []
  }
 ],
 "metadata": {
  "kernelspec": {
   "display_name": "Python 3",
   "language": "python",
   "name": "python3"
  },
  "language_info": {
   "codemirror_mode": {
    "name": "ipython",
    "version": 3
   },
   "file_extension": ".py",
   "mimetype": "text/x-python",
   "name": "python",
   "nbconvert_exporter": "python",
   "pygments_lexer": "ipython3",
   "version": "3.7.6"
  }
 },
 "nbformat": 4,
 "nbformat_minor": 4
}
